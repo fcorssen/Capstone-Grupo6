import numpy as np
import matplotlib.pyplot as plt

# Puntos extraídos para la bomba a 1750 RPM con impulsor de 6.5"
Q_1750 = np.array([0, 50, 100, 150, 200, 250])  # Caudal en GPM
H_1750_65 = np.array([48, 46, 42, 37, 30, 22])  # Altura en pies

# Puntos extraídos para la bomba a 3500 RPM con impulsor de 6"
Q_3500 = np.array([0, 50, 100, 150, 200, 250, 300])  # Caudal en GPM
H_3500_60 = np.array([68, 66, 62, 57, 50, 42, 33])  # Altura en pies

# Graficar las curvas
plt.figure(figsize=(10, 6))
plt.scatter(Q_1750, H_1750_65, color='blue', label='Bomba 1750 RPM, 6.5" Impulsor (Puntos)')
plt.plot(Q_1750, H_1750_65, 'b--', alpha=0.5)  # Para conectar los puntos con una línea

plt.scatter(Q_3500, H_3500_60, color='red', label='Bomba 3500 RPM, 6" Impulsor (Puntos)')
plt.plot(Q_3500, H_3500_60, 'r--', alpha=0.5)  # Para conectar los puntos con una línea

plt.title('Curvas de Rendimiento de Bombas (Datos Puntuales)')
plt.xlabel('Caudal (GPM)')
plt.ylabel('Altura Total (pies)')
plt.legend()
plt.grid(True)
plt.show()
