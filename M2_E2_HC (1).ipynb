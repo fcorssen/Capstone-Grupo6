{
 "cells": [
  {
   "cell_type": "markdown",
   "metadata": {},
   "source": [
    "Considerando una bomba modelo B3Z-M en el tramo 1, con un diámetro de 8,438’’ (Página 45 del catálogo Berkeley)\n",
    "Determinar el caudal de operación.\n",
    "\n",
    "![Ejemplo 2](images/M2_E2.png)\n",
    "\n",
    "Datos:\n",
    "* Cañerías de acero comercial\n",
    "* L1 = 7 m\n",
    "* L2 = 15 m\n",
    "* L3 = 20 m\n",
    "* L4 = 5 m\n",
    "* D1 = 5 cm\n",
    "* D2 = D3 = D4 = 6 cm\n",
    "* 2 codos de 45º\n",
    "* 1 codo de 90° en cada tramo (2 y 3)\n",
    "* 2 uniones T.\n"
   ]
  },
  {
   "cell_type": "code",
   "execution_count": 1,
   "metadata": {},
   "outputs": [],
   "source": [
    "import CoolProp.CoolProp as cp\n",
    "import fluids as fld\n",
    "import numpy as np\n",
    "from scipy import constants\n",
    "from scipy import optimize as op\n",
    "from fluids.vectorized import * "
   ]
  },
  {
   "cell_type": "markdown",
   "metadata": {},
   "source": [
    "Datos:"
   ]
  },
  {
   "cell_type": "code",
   "execution_count": 2,
   "metadata": {},
   "outputs": [],
   "source": [
    "g = constants.value(u'standard acceleration of gravity')\n",
    "\n",
    "D = np.array([5 , 6, 6, 6]) /100 #Centímetros a metros\n",
    "L = np.array([7, 15, 20, 5])\n",
    "z = 20\n",
    "\n",
    "epsilon = 0.0046/10\n",
    "\n",
    "fluid = \"water\"\n",
    "rho = cp.PropsSI('D','T', 300, 'P',101325,fluid)\n",
    "mu = cp.PropsSI('V','T', 300, 'P',101325,fluid)\n"
   ]
  },
  {
   "cell_type": "markdown",
   "metadata": {},
   "source": [
    "$\\Delta P_2 = \\Delta P_3\\\\$\n",
    "$\\dot{V}_1 = \\dot{V}_2 + \\dot{V}_3$\n",
    "\n",
    "La ecuación de Bernouilli se puede hacer por cada uno de los tramos: 1, 2, 3 y 4. Luego pueden sumarse entre sí. \n",
    "\n",
    "Balance de energía tramo 1-2-4:\n",
    "\n",
    " $\\rho g z_{AB} + H_p =\\left( {\\frac{1}{2}\\rho v_{1}^{2}\\left( {\\frac{f_1 L_1}{D_1}+K_1} \\right)} \\right)+\\frac{1}{2}\\rho v_{2}^{2}\\left( {\\frac{f_2 L_2}{D_2}+K_2} \\right) + \\left( {\\frac{1}{2}\\rho v_{4}^{2}\\left( {\\frac{f_4 L_4}{D_4}+K_4} \\right)} \\right)$\n"
   ]
  },
  {
   "cell_type": "markdown",
   "metadata": {},
   "source": [
    "Para aplicar el Método Hardy-Cross Expresamos las ecuaciones en función de los caudales\n",
    "\n",
    "$\\rho g z_{AB} + H_p = \\Delta P_1 + \\Delta P_2 + \\Delta P_4$\n",
    "\n",
    "$\\rho g z_{AB} + H_p = \\Delta P_1 + \\Delta P_3 + \\Delta P_4$\n",
    "\n",
    "\n",
    "donde,\n",
    "\n",
    "$ \\Delta P_1 = \\frac{1}{2}\\rho v_{1}^{2}\\left( {\\frac{f_1 L_1}{D_1}+K_1} \\right) = \\frac{8 \\rho \\forall_{1}^{2} }{\\pi D_1^4}\\left( {\\frac{f_1 L_1}{D_1}+K_1} \\right)  $\n",
    "\n",
    "$ \\Delta P_2 = \\frac{8 \\rho \\forall_{2}^{2} }{\\pi D_2^4}\\left( {\\frac{f_2 L_2}{D_2}+K_2} \\right)  $\n",
    "\n",
    "$ \\Delta P_3 = \\frac{8 \\rho \\forall_{3}^{2} }{\\pi D_3^4}\\left( {\\frac{f_3 L_2}{D_3}+K_3} \\right)  $\n",
    "\n",
    "$ \\Delta P_4 = \\frac{8 \\rho \\forall_{4}^{2} }{\\pi D_4^4}\\left( {\\frac{f_4 L_2}{D_4}+K_4} \\right)  $"
   ]
  },
  {
   "cell_type": "markdown",
   "metadata": {},
   "source": [
    "\n",
    "$C_{i}=\\frac{8}{\\pi  g D_{i}^{4}}\\left( {\\frac{f_i L_i}{D_i}+K_i} \\right)$"
   ]
  },
  {
   "cell_type": "markdown",
   "metadata": {},
   "source": [
    "Determinamos los valores de K (Crane) que no dependen del caudal"
   ]
  },
  {
   "cell_type": "code",
   "execution_count": 3,
   "metadata": {},
   "outputs": [
    {
     "data": {
      "text/plain": [
       "array([0.6633642, 2.1      , 1.4      , 1.       ])"
      ]
     },
     "execution_count": 3,
     "metadata": {},
     "output_type": "execute_result"
    }
   ],
   "source": [
    "#Tramo 1\n",
    "K_1 = fld.entrance_sharp() + fld.diffuser_sharp(Di1=D[0], Di2=D[1])\n",
    "#Tramo 2\n",
    "#K_2_c =  2 * fld.bend_rounded_Crane(Di=D[1], bend_diameters=1, angle=45) + fld.bend_rounded_Crane(Di=D[1], bend_diameters=1, angle=90)\n",
    "K_2_c =  2 * 0.35 + 1.4\n",
    "#Tramo 3\n",
    "#K_3_c= fld.bend_rounded_Crane(Di=D[2], bend_diameters=1, angle=90)\n",
    "K_3_c = 1.4\n",
    "#Tramo 4\n",
    "K_4 = fld.exit_normal()\n",
    "\n",
    "K = np.array([K_1, K_2_c, K_3_c, K_4])\n",
    "K"
   ]
  },
  {
   "cell_type": "markdown",
   "metadata": {},
   "source": [
    "Cabezal de la bomba\n"
   ]
  },
  {
   "cell_type": "code",
   "execution_count": 4,
   "metadata": {},
   "outputs": [],
   "source": [
    "Hp = np.array(range(30))"
   ]
  },
  {
   "cell_type": "code",
   "execution_count": 5,
   "metadata": {},
   "outputs": [],
   "source": [
    "def variations(V_dot,EHp):\n",
    "    DELTA[0] = - ((C[0] + C[3]) * V_dot[0] * abs(V_dot[0]) + C[1] * V_dot[1] * abs(V_dot[1]) - z - EHp) / (2 * C[1]* abs(V_dot[1]) + 2*(C[0] + C[3])* abs(V_dot[0]))\n",
    "    DELTA[2] = - (C[2] * V_dot[2] * abs(V_dot[2]) - C[1] * V_dot[1] * abs(V_dot[1])) / (2 * C[2]* abs(V_dot[2]) + 2*C[1]* abs(V_dot[1]))\n",
    "    DELTA[1] =  DELTA[0] - DELTA[2]\n",
    "    DELTA[3] =  DELTA[0]\n",
    "    return DELTA"
   ]
  },
  {
   "cell_type": "code",
   "execution_count": 6,
   "metadata": {},
   "outputs": [
    {
     "name": "stdout",
     "output_type": "stream",
     "text": [
      "[0.01492326 0.00559317 0.00933009 0.01492326]\n",
      "[0.01510437 0.00577428 0.00933009 0.01510437]\n",
      "[0.01528548 0.00595539 0.00933009 0.01528548]\n",
      "[0.01546659 0.0061365  0.00933009 0.01546659]\n",
      "[0.0156477  0.00631761 0.00933009 0.0156477 ]\n",
      "[0.01582881 0.00649872 0.00933009 0.01582881]\n",
      "[0.01600992 0.00667983 0.00933009 0.01600992]\n",
      "[0.01619103 0.00686094 0.00933009 0.01619103]\n",
      "[0.01637214 0.00704205 0.00933009 0.01637214]\n",
      "[0.01655325 0.00722316 0.00933009 0.01655325]\n",
      "[0.01673436 0.00740427 0.00933009 0.01673436]\n",
      "[0.01691547 0.00758538 0.00933009 0.01691547]\n",
      "[0.01709658 0.00776649 0.00933009 0.01709658]\n",
      "[0.01727769 0.0079476  0.00933009 0.01727769]\n",
      "[0.0174588  0.00812871 0.00933009 0.0174588 ]\n",
      "[0.01763991 0.00830982 0.00933009 0.01763991]\n",
      "[0.01782102 0.00849093 0.00933009 0.01782102]\n",
      "[0.01800213 0.00867204 0.00933009 0.01800213]\n",
      "[0.01818324 0.00885315 0.00933009 0.01818324]\n",
      "[0.01836435 0.00903426 0.00933009 0.01836435]\n",
      "[0.01854546 0.00921537 0.00933009 0.01854546]\n",
      "[0.01872657 0.00939648 0.00933009 0.01872657]\n",
      "[0.01890768 0.00957759 0.00933009 0.01890768]\n",
      "[0.01908879 0.0097587  0.00933009 0.01908879]\n",
      "[0.0192699  0.00993981 0.00933009 0.0192699 ]\n",
      "[0.01945101 0.01012092 0.00933009 0.01945101]\n",
      "[0.01963212 0.01030203 0.00933009 0.01963212]\n",
      "[0.01981323 0.01048314 0.00933009 0.01981323]\n",
      "[0.01999434 0.01066425 0.00933009 0.01999434]\n",
      "[0.01999355 0.0105799  0.00941364 0.01999355]\n"
     ]
    }
   ],
   "source": [
    "V_dot_plot = np.empty(0)\n",
    "\n",
    "for j in Hp:\n",
    "    V_dot = np.array([20 , 10, 10, 20])/1000\n",
    "    DELTA = np.ones(4)/1000\n",
    "    for i in range(100):\n",
    "        V = (V_dot * 4)/(np.pi * D*D)\n",
    "        Re = Reynolds(D, rho, V, mu)\n",
    "        f = friction_factor(Re, eD=epsilon/D)\n",
    "        K_2_T = fld.K_run_diverging_Crane(D[2], D[2], V_dot[1], V_dot[2], angle=90) + fld.K_branch_converging_Crane(D[2], D[1],V_dot[2],V_dot[1], angle=90)\n",
    "        K[1] = K_2_c + K_2_T \n",
    "        K_3_T =  fld.K_branch_diverging_Crane(D[2], D[2], V_dot[1], V_dot[2], angle=90) + fld.K_run_converging_Crane(D[2], D[1],V_dot[2],V_dot[1], angle=90)\n",
    "        K[2] = K_3_c + K_3_T \n",
    "        C = (8/(np.pi**2 * g * D**4))  * (f * L/D + K)\n",
    "        DELTA = variations(V_dot,Hp[j])\n",
    "        V_dot += DELTA\n",
    "        if DELTA[0]<=1e-6: \n",
    "            print(V_dot)\n",
    "            break\n",
    "    \n",
    "    V_dot_plot = np.append(V_dot_plot, V_dot[0])"
   ]
  },
  {
   "cell_type": "code",
   "execution_count": 7,
   "metadata": {},
   "outputs": [
    {
     "data": {
      "image/png": "[encoded data removed]",
      "text/plain": [
       "<Figure size 432x288 with 1 Axes>"
      ]
     },
     "metadata": {
      "needs_background": "light"
     },
     "output_type": "display_data"
    }
   ],
   "source": [
    "import matplotlib.pyplot as plt\n",
    "\n",
    "plt.figure()\n",
    "plt.plot(V_dot_plot*3600, Hp)\n",
    "plt.xlabel(\"Caudal [$m^3/h$]\")\n",
    "plt.ylabel(r\"Pump Head, $\\H_p$ [m.c.a.]\")\n",
    "plt.title(\"Head vs Flow rate\")\n",
    "plt.xlim([0, 120])\n",
    "plt.ylim([0, 30])\n",
    "plt.grid(True)\n",
    "plt.tight_layout()"
   ]
  }
 ],
 "metadata": {
  "kernelspec": {
   "display_name": "Python 3.9.12 ('Thermodynamics')",
   "language": "python",
   "name": "python3"
  },
  "language_info": {
   "codemirror_mode": {
    "name": "ipython",
    "version": 3
   },
   "file_extension": ".py",
   "mimetype": "text/x-python",
   "name": "python",
   "nbconvert_exporter": "python",
   "pygments_lexer": "ipython3",
   "version": "3.9.16"
  },
  "orig_nbformat": 4,
  "vscode": {
   "interpreter": {
    "hash": "e3e00a7bd6eae02d2ccac1eb55407bbbd95142f269ed3bd1034733c2cfa4f866"
   }
  }
 },
 "nbformat": 4,
 "nbformat_minor": 2
}
