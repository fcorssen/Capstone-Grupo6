{
 "cells": [
  {
   "cell_type": "markdown",
   "metadata": {},
   "source": [
    "Considerando una bomba modelo B3Z-M en el tramo 1, con un diámetro de 8,438’’ (Página 45 del catálogo Berkeley)\n",
    "Determinar el caudal de operación.\n",
    "\n",
    "![Ejemplo 2](images/M2_E3.png)\n",
    "\n",
    "Datos:\n",
    "* Cañerías de acero comercial\n",
    "* L1 = 7 m\n",
    "* L2 = 15 m\n",
    "* L3 = 20 m\n",
    "* L4 = 5 m\n",
    "* D1 = 5 cm\n",
    "* D2 = D3 = D4 = 6 cm\n",
    "* 2 codos de 45º\n",
    "* 1 codo de 90° en cada tramo (2 y 3)\n",
    "* 2 uniones T.\n"
   ]
  },
  {
   "cell_type": "code",
   "execution_count": 1,
   "metadata": {},
   "outputs": [],
   "source": [
    "import CoolProp.CoolProp as cp\n",
    "import fluids as fld\n",
    "import numpy as np\n",
    "from scipy import constants\n",
    "from scipy import optimize as op\n",
    "from fluids.vectorized import * "
   ]
  },
  {
   "cell_type": "markdown",
   "metadata": {},
   "source": [
    "Datos:"
   ]
  },
  {
   "cell_type": "code",
   "execution_count": 2,
   "metadata": {},
   "outputs": [],
   "source": [
    "g = constants.value(u'standard acceleration of gravity')\n",
    "\n",
    "D = np.array([5 , 6, 6, 6]) /100 #Centímetros a metros\n",
    "L = np.array([7, 15, 20, 5])\n",
    "z = 20\n",
    "\n",
    "epsilon = 0.0046/10\n",
    "\n",
    "fluid = \"water\"\n",
    "rho = cp.PropsSI('D','T', 300, 'P',101325,fluid)\n",
    "mu = cp.PropsSI('V','T', 300, 'P',101325,fluid)\n"
   ]
  },
  {
   "cell_type": "markdown",
   "metadata": {},
   "source": [
    "Determinamos los valores de K (Crane) que no dependen del caudal"
   ]
  },
  {
   "cell_type": "code",
   "execution_count": 3,
   "metadata": {},
   "outputs": [
    {
     "data": {
      "text/plain": [
       "array([0.6633642, 2.1      , 1.4      , 1.       ])"
      ]
     },
     "execution_count": 3,
     "metadata": {},
     "output_type": "execute_result"
    }
   ],
   "source": [
    "#Tramo 1\n",
    "K_1 = fld.entrance_sharp() + fld.diffuser_sharp(Di1=D[0], Di2=D[1])\n",
    "#Tramo 2\n",
    "#K_2_c =  2 * fld.bend_rounded_Crane(Di=D[1], bend_diameters=1, angle=45) + fld.bend_rounded_Crane(Di=D[1], bend_diameters=1, angle=90)\n",
    "K_2_c =  2 * 0.35 + 1.4\n",
    "#Tramo 3\n",
    "#K_3_c= fld.bend_rounded_Crane(Di=D[2], bend_diameters=1, angle=90)\n",
    "K_3_c = 1.4\n",
    "#Tramo 4\n",
    "K_4 = fld.exit_normal()\n",
    "\n",
    "K = np.array([K_1, K_2_c, K_3_c, K_4])\n",
    "K"
   ]
  },
  {
   "cell_type": "markdown",
   "metadata": {},
   "source": [
    "Cabezal de la bomba\n"
   ]
  },
  {
   "cell_type": "code",
   "execution_count": 4,
   "metadata": {},
   "outputs": [],
   "source": [
    "Hp = np.array(range(30))\n"
   ]
  },
  {
   "cell_type": "code",
   "execution_count": 5,
   "metadata": {},
   "outputs": [],
   "source": [
    "def variations(V_dot,EHp):\n",
    "    DELTA[0] = - ((C[0] + C[3]) * V_dot[0] * abs(V_dot[0]) + C[2] * V_dot[2] * abs(V_dot[2]) - z) / (2 * C[2]* abs(V_dot[2]) + 2*(C[0] + C[3])* abs(V_dot[0]))\n",
    "    DELTA[1] = - (C[2] * V_dot[2] * abs(V_dot[2]) - C[1] * V_dot[1] * abs(V_dot[1]) - EHp) / (2 * C[2]* abs(V_dot[2]) + 2*C[1]* abs(V_dot[1]))\n",
    "    DELTA[2] =   DELTA[0] - DELTA[1]\n",
    "    DELTA[3] =  DELTA[0]\n",
    "    return DELTA"
   ]
  },
  {
   "cell_type": "code",
   "execution_count": 6,
   "metadata": {},
   "outputs": [
    {
     "name": "stdout",
     "output_type": "stream",
     "text": [
      "[0.01492898 0.00933009 0.00559889 0.01492898]\n",
      "[0.01492898 0.00963147 0.00529751 0.01492898]\n",
      "[0.01492898 0.00993285 0.00499613 0.01492898]\n",
      "[0.01492898 0.01023423 0.00469475 0.01492898]\n",
      "[0.01492898 0.01053561 0.00439337 0.01492898]\n",
      "[0.01492898 0.01083698 0.004092   0.01492898]\n",
      "[0.01492898 0.01113836 0.00379062 0.01492898]\n",
      "[0.01492898 0.01143974 0.00348924 0.01492898]\n",
      "[0.01492898 0.01174112 0.00318786 0.01492898]\n",
      "[0.01492898 0.0120425  0.00288648 0.01492898]\n",
      "[0.01492898 0.01234388 0.0025851  0.01492898]\n",
      "[0.01492898 0.01264525 0.00228373 0.01492898]\n",
      "[0.01492898 0.01294663 0.00198235 0.01492898]\n",
      "[0.01492898 0.01324801 0.00168097 0.01492898]\n",
      "[0.01492898 0.01354939 0.00137959 0.01492898]\n",
      "[0.01492898 0.01385077 0.00107821 0.01492898]\n",
      "[0.01492898 0.01415214 0.00077684 0.01492898]\n",
      "[0.01492898 0.01445352 0.00047546 0.01492898]\n",
      "[0.01492898 0.0147549  0.00017408 0.01492898]\n",
      "[ 0.01492898  0.01505628 -0.0001273   0.01492898]\n",
      "[ 0.01492898  0.01535766 -0.00042868  0.01492898]\n",
      "[ 0.01492898  0.01565903 -0.00073005  0.01492898]\n",
      "[ 0.01492898  0.01596041 -0.00103143  0.01492898]\n",
      "[ 0.01492898  0.01626179 -0.00133281  0.01492898]\n",
      "[ 0.01492898  0.01656317 -0.00163419  0.01492898]\n",
      "[ 0.01492898  0.01686455 -0.00193557  0.01492898]\n",
      "[ 0.01492898  0.01716593 -0.00223695  0.01492898]\n",
      "[ 0.01492898  0.0174673  -0.00253832  0.01492898]\n",
      "[ 0.01492898  0.01776868 -0.0028397   0.01492898]\n",
      "[ 0.01492898  0.01807006 -0.00314108  0.01492898]\n"
     ]
    }
   ],
   "source": [
    "V_dot_plot = np.empty(0)\n",
    "V_dot_plot_2 = np.empty(0)\n",
    "\n",
    "for j in Hp:\n",
    "    V_dot = np.array([20 , 10 ,  10 ,  20])/1000\n",
    "    DELTA = np.ones(4)/1000\n",
    "    for i in range(100):\n",
    "        V = (V_dot * 4)/(np.pi * D*D)\n",
    "        Re = Reynolds(D, rho, V, mu)\n",
    "        f = friction_factor(Re, eD=epsilon/D)\n",
    "        K_2_T = fld.K_run_diverging_Crane(D[1], D[2], V_dot[1], V_dot[2], angle=90) + fld.K_branch_converging_Crane(D[2], D[1],V_dot[2],V_dot[1], angle=90)\n",
    "        K[1] = K_2_c + K_2_T \n",
    "        K_3_T =  fld.K_branch_diverging_Crane(D[1], D[2], V_dot[1], V_dot[2], angle=90) + fld.K_run_converging_Crane(D[2], D[1],V_dot[2],V_dot[1], angle=90)\n",
    "        K[2] = K_3_c + K_3_T \n",
    "        C = (8/(np.pi**2 * g * D**4))  * (f * L/D + K)\n",
    "        DELTA = variations(V_dot,Hp[j])\n",
    "        V_dot += DELTA\n",
    "        if DELTA[0]<=1e-6: \n",
    "            print(V_dot)\n",
    "            break\n",
    "    \n",
    "    V_dot_plot =np.append(V_dot_plot, V_dot[0])\n",
    "    V_dot_plot_2 =np.append(V_dot_plot_2, V_dot[1])"
   ]
  },
  {
   "cell_type": "code",
   "execution_count": 7,
   "metadata": {},
   "outputs": [
    {
     "data": {
      "text/plain": [
       "array([0.01492898, 0.01492898, 0.01492898, 0.01492898, 0.01492898,\n",
       "       0.01492898, 0.01492898, 0.01492898, 0.01492898, 0.01492898,\n",
       "       0.01492898, 0.01492898, 0.01492898, 0.01492898, 0.01492898,\n",
       "       0.01492898, 0.01492898, 0.01492898, 0.01492898, 0.01492898,\n",
       "       0.01492898, 0.01492898, 0.01492898, 0.01492898, 0.01492898,\n",
       "       0.01492898, 0.01492898, 0.01492898, 0.01492898, 0.01492898])"
      ]
     },
     "execution_count": 7,
     "metadata": {},
     "output_type": "execute_result"
    }
   ],
   "source": [
    "V_dot_plot"
   ]
  },
  {
   "cell_type": "code",
   "execution_count": 8,
   "metadata": {},
   "outputs": [
    {
     "data": {
      "image/png": "[encoded data removed]",
      "text/plain": [
       "<Figure size 432x288 with 1 Axes>"
      ]
     },
     "metadata": {
      "needs_background": "light"
     },
     "output_type": "display_data"
    }
   ],
   "source": [
    "import matplotlib.pyplot as plt\n",
    "\n",
    "plt.figure()\n",
    "plt.plot(V_dot_plot*3600, Hp, label=\"$\\dot{V}_1$\")\n",
    "plt.plot(V_dot_plot_2*3600, Hp,label=\"$\\dot{V}_2$\")\n",
    "plt.xlabel(\"Caudal [$m^3/h$]\")\n",
    "plt.ylabel(r\"Pump Head, $\\H_p$ [m.c.a.]\")\n",
    "plt.title(\"Head vs Flow rate\")\n",
    "plt.xlim([0, 200])\n",
    "plt.ylim([0, 30])\n",
    "plt.grid(True)\n",
    "plt.tight_layout()"
   ]
  }
 ],
 "metadata": {
  "kernelspec": {
   "display_name": "Python 3.9.12 ('Thermodynamics')",
   "language": "python",
   "name": "python3"
  },
  "language_info": {
   "codemirror_mode": {
    "name": "ipython",
    "version": 3
   },
   "file_extension": ".py",
   "mimetype": "text/x-python",
   "name": "python",
   "nbconvert_exporter": "python",
   "pygments_lexer": "ipython3",
   "version": "3.9.13"
  },
  "orig_nbformat": 4,
  "vscode": {
   "interpreter": {
    "hash": "e3e00a7bd6eae02d2ccac1eb55407bbbd95142f269ed3bd1034733c2cfa4f866"
   }
  }
 },
 "nbformat": 4,
 "nbformat_minor": 2
}
